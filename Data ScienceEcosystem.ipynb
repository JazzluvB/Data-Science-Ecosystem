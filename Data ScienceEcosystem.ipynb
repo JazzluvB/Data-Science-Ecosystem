{
 "cells": [
  {
   "cell_type": "markdown",
   "metadata": {},
   "source": [
    "<center>\n",
    "    <img src=\"https://cf-courses-data.s3.us.cloud-object-storage.appdomain.cloud/IBMDeveloperSkillsNetwork-DS0105EN-SkillsNetwork/labs/Module2/images/SN_web_lightmode.png\" width=\"300\" alt=\"cognitiveclass.ai logo\">\n",
    "</center>\n"
   ]
  },
  {
   "cell_type": "markdown",
   "metadata": {},
   "source": [
    "Add your code below following the instructions given in the course\n"
   ]
  },
  {
   "cell_type": "markdown",
   "metadata": {},
   "source": [
    "Data Science Tools"
   ]
  },
  {
   "cell_type": "markdown",
   "metadata": {},
   "source": [
    "In this notebook, Data Science and Ecosystem are summarized."
   ]
  },
  {
   "cell_type": "markdown",
   "metadata": {},
   "source": [
    "Some of the popular languages tha Data Scientist use are:\n",
    "\n",
    "Python: Python is the most popular language used by data scientists. It has a wide range of libraries and tools that make it easy to work with data, including NumPy, pandas, and scikit-learn.\n",
    "R: R is a popular language for statistical computing and is widely used by data scientists. It has a wide range of libraries and tools for data visualization, machine learning, and statistical modeling.\n",
    "SQL: SQL (Structured Query Language) is a language used to manage and analyze relational databases. Data scientists use SQL to extract and manipulate data from databases.\n",
    "Julia: Julia is a new language that is gaining popularity among data scientists. It is known for its high performance and is used for machine learning, data analysis, and visualization.\n",
    "MATLAB: MATLAB is a language used for numerical computing and is widely used by data scientists. It has a wide range of libraries and tools for data analysis, machine learning, and visualization.\n",
    "Scala: Scala is a language used for building scalable and distributed systems. It is widely used by data scientists for building big data applications using Apache Spark.\n",
    "Java: Java is a popular language used by data scientists for building large-scale data applications. It is widely used for building data pipelines, machine learning models, and data visualization tools.\n",
    "C++: C++ is a language used for building high-performance applications. It is widely used by data scientists for building machine learning models, data pipelines, and data visualization tools.\n",
    "Some of the commonly used libraries used by Data Scientist include: provides a high-level interface for drawing attractive and informative statistical graphics.\n",
    "Data Science Tools"
   ]
  },
  {
   "cell_type": "markdown",
   "metadata": {},
   "source": [
    "LIBRARIES\n",
    "\n",
    "NumPy: The NumPy library is used for numerical computations. It provides support for large, multi-dimensional arrays and matrices, along with a large collection of high-level mathematical functions to operate on these arrays.\n",
    "Pandas: The Pandas library is used for data manipulation and analysis. It provides data structures such as Series (1-dimensional labeled array) and DataFrame (2-dimensional labeled data structure with columns of potentially different types).\n",
    "Matplotlib: The Matplotlib library is used for creating static, animated, and interactive visualizations in Python. It provides a comprehensive set of tools for creating high-quality 2D and 3D plots.\n",
    "Scikit-learn: The Scikit-learn library is used for machine learning tasks such as classification, regression, clustering, and model selection. It provides a wide range of algorithms for these tasks, along with tools for model evaluation and selection.\n",
    "TensorFlow: The TensorFlow library is used for building and training artificial neural networks, particularly deep neural networks. It provides a flexible framework for defining, running, and tuning machine learning models.\n",
    "Keras: The Keras library is used for building and training deep learning models. It provides a high-level interface for building neural networks, and can run on top of TensorFlow, CNTK, or Theano.\n",
    "OpenCV: The OpenCV library is used for computer vision tasks such as image and video processing, feature detection, object detection, and tracking.\n",
    "Seaborn: The Seaborn library is used for statistical data visualization. It\n",
    "Statsmodels: The Statsmodels library is used for statistical modeling and analysis. It provides a wide range of statistical techniques, including statistical hypothesis testing, confidence intervals, and regression analysis.\n",
    "Scipy: The Scipy library is used for scientific and engineering applications. It provides functions for scientific and engineering applications, including optimization, signal processing, and statistics.\n",
    "Data Science Tools The subsequent three rows in the table should indicate three development evironment open source tools used in data science.Data Science Tools"
   ]
  },
  {
   "cell_type": "markdown",
   "metadata": {},
   "source": [
    "Data Science Tools\n",
    "\n",
    "\t1.\tPython:\n",
    "Python es uno de los lenguajes de programación más populares en ciencia de datos debido a su simplicidad y la gran cantidad de bibliotecas disponibles, como pandas, NumPy y scikit-learn, que facilitan el análisis y la manipulación de datos.\n",
    "\t2.\tR:\n",
    "R es un lenguaje y entorno de programación específicamente diseñado para el análisis estadístico y la visualización de datos. Es ampliamente utilizado en investigación académica y en industrias donde el análisis estadístico es crucial.\n",
    "\t3.\tJupyter Notebook:\n",
    "Jupyter Notebook es una aplicación web que permite crear y compartir documentos que contienen código, ecuaciones, visualizaciones y texto explicativo. Es especialmente útil para la exploración de datos y la creación de prototipos.\n",
    "\t4.\tSQL:\n",
    "SQL (Structured Query Language) es el lenguaje estándar para interactuar con bases de datos relacionales. Permite a los científicos de datos extraer, manipular y analizar datos almacenados en bases de datos de manera eficiente.\n",
    "\t5.\tTableau:\n",
    "Tableau es una herramienta de visualización de datos que permite a los usuarios crear gráficos interactivos y dashboards fácilmente. Es muy útil para presentar resultados y obtener insights visuales de los datos.\n",
    "\t6.\tApache Spark:\n",
    "Apache Spark es una plataforma de procesamiento de datos de código abierto que permite el procesamiento rápido de grandes volúmenes de datos. Es especialmente útil para el análisis de datos en tiempo real y para trabajos que requieren un procesamiento distribuido."
   ]
  },
  {
   "cell_type": "markdown",
   "metadata": {},
   "source": [
    "Arithmetic Examples\n",
    "\n",
    "(3*4) + 5\n",
    "\n",
    "\"This is a simple arithmetic expression\"\n",
    "\n",
    "17"
   ]
  },
  {
   "cell_type": "code",
   "execution_count": 3,
   "metadata": {
    "tags": []
   },
   "outputs": [
    {
     "data": {
      "text/plain": [
       "17"
      ]
     },
     "execution_count": 3,
     "metadata": {},
     "output_type": "execute_result"
    }
   ],
   "source": [
    "(3*4) + 5"
   ]
  },
  {
   "cell_type": "code",
   "execution_count": 5,
   "metadata": {
    "tags": []
   },
   "outputs": [
    {
     "name": "stdout",
     "output_type": "stream",
     "text": [
      "200 minutos son 3.3333333333333335 horas.\n"
     ]
    }
   ],
   "source": [
    "def minutos_a_horas(minutos):\n",
    "    horas = minutos / 60  # 1 hora = 60 minutos\n",
    "    return horas\n",
    "\n",
    "# Convertir 200 minutos a horas\n",
    "minutos = 200\n",
    "horas = minutos_a_horas(minutos)\n",
    "print(f\"{minutos} minutos son {horas} horas.\")"
   ]
  },
  {
   "cell_type": "markdown",
   "metadata": {},
   "source": []
  }
 ],
 "metadata": {
  "kernelspec": {
   "display_name": "Python",
   "language": "python",
   "name": "conda-env-python-py"
  },
  "language_info": {
   "codemirror_mode": {
    "name": "ipython",
    "version": 3
   },
   "file_extension": ".py",
   "mimetype": "text/x-python",
   "name": "python",
   "nbconvert_exporter": "python",
   "pygments_lexer": "ipython3",
   "version": "3.7.12"
  }
 },
 "nbformat": 4,
 "nbformat_minor": 4
}
