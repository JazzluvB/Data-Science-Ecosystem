{
 "cells": [
  {
   "cell_type": "markdown",
   "metadata": {},
   "source": [
    "Data Science Tools and Ecosystem "
   ]
  },
  {
   "cell_type": "markdown",
   "metadata": {},
   "source": [
    "In this notebook, Data Science and Ecosystem are summarized."
   ]
  },
  {
   "cell_type": "markdown",
   "metadata": {},
   "source": [
    "Some of the popular languages tha Data Scientist use are:\n",
    "1. Python: Python is the most popular language used by data scientists. It has a wide range\n",
    "of libraries and tools that make it easy to work with data, including NumPy, pandas, and\n",
    "scikit-learn.\n",
    "2. R: R is a popular language for statistical computing and is widely used by data\n",
    "scientists. It has a wide range of libraries and tools for data visualization, machine\n",
    "learning, and statistical modeling.\n",
    "3. SQL: SQL (Structured Query Language) is a language used to manage and analyze\n",
    "relational databases. Data scientists use SQL to extract and manipulate data from\n",
    "databases.\n",
    "4. Julia: Julia is a new language that is gaining popularity among data scientists. It is known\n",
    "for its high performance and is used for machine learning, data analysis, and\n",
    "visualization.\n",
    "5. MATLAB: MATLAB is a language used for numerical computing and is widely used by\n",
    "data scientists. It has a wide range of libraries and tools for data analysis, machine\n",
    "learning, and visualization.\n",
    "6. Scala: Scala is a language used for building scalable and distributed systems. It is\n",
    "widely used by data scientists for building big data applications using Apache Spark.\n",
    "7. Java: Java is a popular language used by data scientists for building large-scale data\n",
    "applications. It is widely used for building data pipelines, machine learning models,\n",
    "and data visualization tools.\n",
    "8. C++: C++ is a language used for building high-performance applications. It is widely\n",
    "used by data scientists for building machine learning models, data pipelines, and data\n",
    "visualization tools."
   ]
  },
  {
   "cell_type": "markdown",
   "metadata": {},
   "source": [
    "Some of the commonly used libraries used by Data Scientist include:\n",
    "1. **NumPy**: The NumPy library is used for numerical computations. It provides support for\n",
    "large, multi-dimensional arrays and matrices, along with a large collection of high-level\n",
    "mathematical functions to operate on these arrays.\n",
    "2. **Pandas**: The Pandas library is used for data manipulation and analysis. It provides\n",
    "data structures such as Series (1-dimensional labeled array) and DataFrame (2-dimensional\n",
    "labeled data structure with columns of potentially different types).\n",
    "3. **Matplotlib**: The Matplotlib library is used for creating static, animated, and interactive\n",
    "visualizations in Python. It provides a comprehensive set of tools for creating high-quality 2D\n",
    "and 3D plots.\n",
    "4. **Scikit-learn**: The Scikit-learn library is used for machine learning tasks\n",
    "such as classification, regression, clustering, and model selection. It provides a wide range of\n",
    "algorithms for these tasks, along with tools for model evaluation and selection.\n",
    "5. **TensorFlow**: The TensorFlow library is used for building and training artificial neural\n",
    "networks, particularly deep neural networks. It provides a flexible framework for defining,\n",
    "running, and tuning machine learning models.\n",
    "6. **Keras**: The Keras library is used for building and training deep learning models.\n",
    "It provides a high-level interface for building neural networks, and can run on top of TensorFlow,\n",
    "CNTK, or Theano.\n",
    "7. **OpenCV**: The OpenCV library is used for computer vision tasks such as image and\n",
    "video processing, feature detection, object detection, and tracking.\n",
    "8. **Seaborn**: The Seaborn library is used for statistical data visualization. It\n",
    "provides a high-level interface for drawing attractive and informative statistical graphics.\n",
    "9. **Statsmodels**: The Statsmodels library is used for statistical modeling and analysis.\n",
    "It provides a wide range of statistical techniques, including statistical hypothesis testing,\n",
    "confidence intervals, and regression analysis.\n",
    "10. **Scipy**: The Scipy library is used for scientific and engineering applications.\n",
    "It provides functions for scientific and engineering applications, including optimization,\n",
    "signal processing, and statistics."
   ]
  },
  {
   "cell_type": "markdown",
   "metadata": {},
   "source": [
    "Data Science Tools\n",
    "The subsequent three rows in the table should indicate three development evironment open source tools used in data science.\n",
    "| Tool | Description |\n",
    "| --- | --- |\n",
    "| Jupyter Notebook | Jupyter Notebook is a web-based interactive computing environment that allows you to create\n",
    "and share documents that contain live code, equations, visualizations, and narrative text.\n",
    "Uses include data cleaning and transformation, numerical simulation, statistical modeling, data visualization, machine learning, and more. |\n",
    "| RStudio | RStudio is a popular integrated development environment (IDE) for R. It provides\n",
    "a comprehensive set of tools for data analysis, visualization, and modeling. RStudio\n",
    "includes features such as syntax highlighting, code completion, and project management.\n",
    "It also supports version control, debugging, and visualization. |\n",
    "| PyCharm | PyCharm is a popular IDE for Python. It provides a comprehensive set\n",
    "of tools for data analysis, visualization, and modeling. PyCharm includes features\n",
    "such as syntax highlighting, code completion, and project management. It also supports\n",
    "version control, debugging, and visualization. PyCharm is particularly useful for\n",
    "data science tasks that involve machine learning, deep learning, and data visualization. |"
   ]
  },
  {
   "cell_type": "markdown",
   "metadata": {},
   "source": [
    "Below are a few examples of evaluating aritmetic expression in Python.\n",
    "\n",
    "Arithmetic Examples\n",
    "-------------------\n",
    "\n",
    ">>> a = 5\n",
    ">>> b = 2\n",
    "\n",
    ">>> +a\n",
    "5\n",
    ">>> -b\n",
    "-2\n",
    ">>> a + b\n",
    "7\n",
    ">>> a - b\n",
    "3\n",
    ">>> a * b\n",
    "10\n",
    ">>> a / b\n",
    "2.5\n",
    ">>> a % b\n",
    "1\n",
    ">>> a // b\n",
    "2\n",
    ">>> a**b\n",
    "25\n"
   ]
  },
  {
   "cell_type": "code",
   "execution_count": 3,
   "metadata": {},
   "outputs": [
    {
     "data": {
      "text/plain": [
       "17"
      ]
     },
     "execution_count": 3,
     "metadata": {},
     "output_type": "execute_result"
    }
   ],
   "source": [
    "(3*4) + 5\n",
    "\n",
    "\"This is a simple arithmetic expression\""
   ]
  },
  {
   "cell_type": "code",
   "execution_count": 4,
   "metadata": {},
   "outputs": [
    {
     "ename": "SyntaxError",
     "evalue": "invalid syntax (1390462379.py, line 2)",
     "output_type": "error",
     "traceback": [
      "\u001b[0;36m  Cell \u001b[0;32mIn[4], line 2\u001b[0;36m\u001b[0m\n\u001b[0;31m    minutos =\u001b[0m\n\u001b[0m              ^\u001b[0m\n\u001b[0;31mSyntaxError\u001b[0m\u001b[0;31m:\u001b[0m invalid syntax\n"
     ]
    }
   ],
   "source": []
  },
  {
   "cell_type": "code",
   "execution_count": 5,
   "metadata": {},
   "outputs": [
    {
     "name": "stdout",
     "output_type": "stream",
     "text": [
      "200 minutos son equivalentes a 3.3333333333333335 horas.\n"
     ]
    }
   ],
   "source": [
    "def minutos_a_horas(minutos):\n",
    "    horas = minutos / 60\n",
    "    return horas\n",
    "\n",
    "# Convertir 200 minutos a horas\n",
    "minutos = 200\n",
    "horas_convertidas = minutos_a_horas(minutos)\n",
    "\n",
    "print(f\"{minutos} minutos son equivalentes a {horas_convertidas} horas.\")\n"
   ]
  },
  {
   "cell_type": "markdown",
   "metadata": {},
   "source": [
    "**Objectives:**\n",
    "\n",
    "- List popular languages for Data Science\n",
    "- Discuss the importance of Data Science\n",
    "- Understand basic Python syntax and functions\n",
    "- Explore data manipulation with pandas\n",
    "- Create visualizations with matplotlib and seaborn"
   ]
  },
  {
   "cell_type": "markdown",
   "metadata": {},
   "source": [
    "Autor \n",
    "\n",
    "Carlos Palacios Betancourt"
   ]
  },
  {
   "cell_type": "markdown",
   "metadata": {},
   "source": []
  }
 ],
 "metadata": {
  "kernelspec": {
   "display_name": "Python 3",
   "language": "python",
   "name": "python3"
  },
  "language_info": {
   "codemirror_mode": {
    "name": "ipython",
    "version": 3
   },
   "file_extension": ".py",
   "mimetype": "text/x-python",
   "name": "python",
   "nbconvert_exporter": "python",
   "pygments_lexer": "ipython3",
   "version": "3.12.1"
  }
 },
 "nbformat": 4,
 "nbformat_minor": 2
}
